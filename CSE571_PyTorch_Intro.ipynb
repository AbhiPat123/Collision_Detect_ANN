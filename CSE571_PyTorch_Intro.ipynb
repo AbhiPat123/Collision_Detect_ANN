{
  "nbformat": 4,
  "nbformat_minor": 0,
  "metadata": {
    "colab": {
      "name": "CSE571_PyTorch_Intro.ipynb",
      "provenance": [],
      "collapsed_sections": []
    },
    "kernelspec": {
      "name": "python3",
      "display_name": "Python 3"
    },
    "language_info": {
      "name": "python"
    }
  },
  "cells": [
    {
      "cell_type": "code",
      "metadata": {
        "id": "UlhrJ7W1sI-Y"
      },
      "source": [
        "import torch.nn as nn"
      ],
      "execution_count": 1,
      "outputs": []
    },
    {
      "cell_type": "code",
      "metadata": {
        "id": "roX2xFxUsQtC"
      },
      "source": [
        "# PyTorch Introduction"
      ],
      "execution_count": null,
      "outputs": []
    }
  ]
}